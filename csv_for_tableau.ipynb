{
 "cells": [
  {
   "cell_type": "code",
   "execution_count": 1,
   "metadata": {},
   "outputs": [],
   "source": [
    "import pandas as pd"
   ]
  },
  {
   "cell_type": "code",
   "execution_count": 2,
   "metadata": {},
   "outputs": [],
   "source": [
    "df1 = pd.read_csv('C:/Users/marti/OneDrive/Desktop/School/SMU-VIRT-DATA-PT-12-2023-U-LOLC/Tableau Homework/JC-202401-citibike-tripdata.csv')\n",
    "df2 = pd.read_csv('C:/Users/marti/OneDrive/Desktop/School/SMU-VIRT-DATA-PT-12-2023-U-LOLC/Tableau Homework/JC-202402-citibike-tripdata.csv')\n",
    "df3 = pd.read_csv('C:/Users/marti/OneDrive/Desktop/School/SMU-VIRT-DATA-PT-12-2023-U-LOLC/Tableau Homework/JC-202403-citibike-tripdata.csv')\n",
    "\n",
    "# Concatenate them vertically\n",
    "combined_df = pd.concat([df1, df2, df3], ignore_index=True)\n",
    "\n",
    "# Write the combined DataFrame to a new CSV file\n",
    "combined_df.to_csv('combined_file.csv', index=False)"
   ]
  }
 ],
 "metadata": {
  "kernelspec": {
   "display_name": "Python 3",
   "language": "python",
   "name": "python3"
  },
  "language_info": {
   "codemirror_mode": {
    "name": "ipython",
    "version": 3
   },
   "file_extension": ".py",
   "mimetype": "text/x-python",
   "name": "python",
   "nbconvert_exporter": "python",
   "pygments_lexer": "ipython3",
   "version": "3.11.9"
  }
 },
 "nbformat": 4,
 "nbformat_minor": 2
}
